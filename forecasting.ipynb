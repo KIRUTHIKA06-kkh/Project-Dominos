{
 "cells": [
  {
   "cell_type": "code",
   "execution_count": 224,
   "metadata": {},
   "outputs": [],
   "source": [
    "import pandas as pd\n",
    "import numpy as np\n",
    "from statsmodels.tsa.arima.model import ARIMA\n",
    "from statsmodels.tsa.statespace.sarimax import SARIMAX\n",
    "from prophet import Prophet\n",
    "from sklearn.metrics import mean_absolute_percentage_error, mean_absolute_error, mean_squared_error,r2_score\n",
    "from sklearn.preprocessing import LabelEncoder\n",
    "import matplotlib.pyplot as plt\n",
    "import warnings\n",
    "warnings.filterwarnings('ignore')"
   ]
  },
  {
   "cell_type": "markdown",
   "metadata": {},
   "source": [
    "ENCODING TECHNIQUE"
   ]
  },
  {
   "cell_type": "code",
   "execution_count": 225,
   "metadata": {},
   "outputs": [],
   "source": [
    "data= pd.read_csv('Pizzasales.csv')"
   ]
  },
  {
   "cell_type": "code",
   "execution_count": 226,
   "metadata": {},
   "outputs": [],
   "source": [
    "data.drop(columns=['Unnamed: 0'], inplace=True)"
   ]
  },
  {
   "cell_type": "code",
   "execution_count": 227,
   "metadata": {},
   "outputs": [],
   "source": [
    "data['order_date'] = pd.to_datetime(data['order_date'], errors='coerce')"
   ]
  },
  {
   "cell_type": "code",
   "execution_count": 228,
   "metadata": {},
   "outputs": [
    {
     "data": {
      "text/html": [
       "<div>\n",
       "<style scoped>\n",
       "    .dataframe tbody tr th:only-of-type {\n",
       "        vertical-align: middle;\n",
       "    }\n",
       "\n",
       "    .dataframe tbody tr th {\n",
       "        vertical-align: top;\n",
       "    }\n",
       "\n",
       "    .dataframe thead th {\n",
       "        text-align: right;\n",
       "    }\n",
       "</style>\n",
       "<table border=\"1\" class=\"dataframe\">\n",
       "  <thead>\n",
       "    <tr style=\"text-align: right;\">\n",
       "      <th></th>\n",
       "      <th>pizza_id</th>\n",
       "      <th>order_id</th>\n",
       "      <th>pizza_name_id</th>\n",
       "      <th>quantity</th>\n",
       "      <th>order_date</th>\n",
       "      <th>order_time</th>\n",
       "      <th>unit_price</th>\n",
       "      <th>total_price</th>\n",
       "      <th>pizza_size</th>\n",
       "      <th>pizza_category</th>\n",
       "      <th>pizza_ingredients</th>\n",
       "      <th>pizza_name</th>\n",
       "      <th>day_of_week</th>\n",
       "      <th>month</th>\n",
       "      <th>year</th>\n",
       "      <th>is_weekend</th>\n",
       "      <th>day_of_year</th>\n",
       "      <th>quarter</th>\n",
       "      <th>is_holiday</th>\n",
       "    </tr>\n",
       "  </thead>\n",
       "  <tbody>\n",
       "    <tr>\n",
       "      <th>0</th>\n",
       "      <td>1</td>\n",
       "      <td>1</td>\n",
       "      <td>hawaiian_m</td>\n",
       "      <td>1</td>\n",
       "      <td>2015-01-01</td>\n",
       "      <td>11:38:36</td>\n",
       "      <td>13.25</td>\n",
       "      <td>13.25</td>\n",
       "      <td>M</td>\n",
       "      <td>Classic</td>\n",
       "      <td>Sliced Ham, Pineapple, Mozzarella Cheese</td>\n",
       "      <td>The Hawaiian Pizza</td>\n",
       "      <td>3</td>\n",
       "      <td>1</td>\n",
       "      <td>2015</td>\n",
       "      <td>0</td>\n",
       "      <td>1</td>\n",
       "      <td>1</td>\n",
       "      <td>0</td>\n",
       "    </tr>\n",
       "    <tr>\n",
       "      <th>1</th>\n",
       "      <td>2</td>\n",
       "      <td>2</td>\n",
       "      <td>classic_dlx_m</td>\n",
       "      <td>1</td>\n",
       "      <td>2015-01-01</td>\n",
       "      <td>11:57:40</td>\n",
       "      <td>16.00</td>\n",
       "      <td>16.00</td>\n",
       "      <td>M</td>\n",
       "      <td>Classic</td>\n",
       "      <td>Pepperoni, Mushrooms, Red Onions, Red Peppers,...</td>\n",
       "      <td>The Classic Deluxe Pizza</td>\n",
       "      <td>3</td>\n",
       "      <td>1</td>\n",
       "      <td>2015</td>\n",
       "      <td>0</td>\n",
       "      <td>1</td>\n",
       "      <td>1</td>\n",
       "      <td>0</td>\n",
       "    </tr>\n",
       "    <tr>\n",
       "      <th>2</th>\n",
       "      <td>3</td>\n",
       "      <td>2</td>\n",
       "      <td>five_cheese_l</td>\n",
       "      <td>1</td>\n",
       "      <td>2015-01-01</td>\n",
       "      <td>11:57:40</td>\n",
       "      <td>18.50</td>\n",
       "      <td>18.50</td>\n",
       "      <td>L</td>\n",
       "      <td>Veggie</td>\n",
       "      <td>Mozzarella Cheese, Provolone Cheese, Smoked Go...</td>\n",
       "      <td>The Five Cheese Pizza</td>\n",
       "      <td>3</td>\n",
       "      <td>1</td>\n",
       "      <td>2015</td>\n",
       "      <td>0</td>\n",
       "      <td>1</td>\n",
       "      <td>1</td>\n",
       "      <td>0</td>\n",
       "    </tr>\n",
       "    <tr>\n",
       "      <th>3</th>\n",
       "      <td>4</td>\n",
       "      <td>2</td>\n",
       "      <td>ital_supr_l</td>\n",
       "      <td>1</td>\n",
       "      <td>2015-01-01</td>\n",
       "      <td>11:57:40</td>\n",
       "      <td>20.75</td>\n",
       "      <td>20.75</td>\n",
       "      <td>L</td>\n",
       "      <td>Supreme</td>\n",
       "      <td>Calabrese Salami, Capocollo, Tomatoes, Red Oni...</td>\n",
       "      <td>The Italian Supreme Pizza</td>\n",
       "      <td>3</td>\n",
       "      <td>1</td>\n",
       "      <td>2015</td>\n",
       "      <td>0</td>\n",
       "      <td>1</td>\n",
       "      <td>1</td>\n",
       "      <td>0</td>\n",
       "    </tr>\n",
       "    <tr>\n",
       "      <th>4</th>\n",
       "      <td>5</td>\n",
       "      <td>2</td>\n",
       "      <td>mexicana_m</td>\n",
       "      <td>1</td>\n",
       "      <td>2015-01-01</td>\n",
       "      <td>11:57:40</td>\n",
       "      <td>16.00</td>\n",
       "      <td>16.00</td>\n",
       "      <td>M</td>\n",
       "      <td>Veggie</td>\n",
       "      <td>Tomatoes, Red Peppers, Jalapeno Peppers, Red O...</td>\n",
       "      <td>The Mexicana Pizza</td>\n",
       "      <td>3</td>\n",
       "      <td>1</td>\n",
       "      <td>2015</td>\n",
       "      <td>0</td>\n",
       "      <td>1</td>\n",
       "      <td>1</td>\n",
       "      <td>0</td>\n",
       "    </tr>\n",
       "  </tbody>\n",
       "</table>\n",
       "</div>"
      ],
      "text/plain": [
       "   pizza_id  order_id  pizza_name_id  quantity order_date order_time  \\\n",
       "0         1         1     hawaiian_m         1 2015-01-01   11:38:36   \n",
       "1         2         2  classic_dlx_m         1 2015-01-01   11:57:40   \n",
       "2         3         2  five_cheese_l         1 2015-01-01   11:57:40   \n",
       "3         4         2    ital_supr_l         1 2015-01-01   11:57:40   \n",
       "4         5         2     mexicana_m         1 2015-01-01   11:57:40   \n",
       "\n",
       "   unit_price  total_price pizza_size pizza_category  \\\n",
       "0       13.25        13.25          M        Classic   \n",
       "1       16.00        16.00          M        Classic   \n",
       "2       18.50        18.50          L         Veggie   \n",
       "3       20.75        20.75          L        Supreme   \n",
       "4       16.00        16.00          M         Veggie   \n",
       "\n",
       "                                   pizza_ingredients  \\\n",
       "0           Sliced Ham, Pineapple, Mozzarella Cheese   \n",
       "1  Pepperoni, Mushrooms, Red Onions, Red Peppers,...   \n",
       "2  Mozzarella Cheese, Provolone Cheese, Smoked Go...   \n",
       "3  Calabrese Salami, Capocollo, Tomatoes, Red Oni...   \n",
       "4  Tomatoes, Red Peppers, Jalapeno Peppers, Red O...   \n",
       "\n",
       "                  pizza_name  day_of_week  month  year  is_weekend  \\\n",
       "0         The Hawaiian Pizza            3      1  2015           0   \n",
       "1   The Classic Deluxe Pizza            3      1  2015           0   \n",
       "2      The Five Cheese Pizza            3      1  2015           0   \n",
       "3  The Italian Supreme Pizza            3      1  2015           0   \n",
       "4         The Mexicana Pizza            3      1  2015           0   \n",
       "\n",
       "   day_of_year  quarter  is_holiday  \n",
       "0            1        1           0  \n",
       "1            1        1           0  \n",
       "2            1        1           0  \n",
       "3            1        1           0  \n",
       "4            1        1           0  "
      ]
     },
     "execution_count": 228,
     "metadata": {},
     "output_type": "execute_result"
    }
   ],
   "source": [
    "data.head()"
   ]
  },
  {
   "cell_type": "code",
   "execution_count": 229,
   "metadata": {},
   "outputs": [],
   "source": [
    "columns_to_drop = ['order_id', 'order_time', 'unit_price','quarter']\n",
    "data = data.drop(columns=columns_to_drop)"
   ]
  },
  {
   "cell_type": "code",
   "execution_count": 230,
   "metadata": {},
   "outputs": [],
   "source": [
    "label_encoder = LabelEncoder()\n",
    "\n",
    "columns_to_encode = ['pizza_name_id', 'pizza_name', 'pizza_category', 'pizza_ingredients','pizza_size']\n",
    "\n",
    "for column in columns_to_encode:\n",
    "    data[column] = label_encoder.fit_transform(data[column])"
   ]
  },
  {
   "cell_type": "code",
   "execution_count": 231,
   "metadata": {},
   "outputs": [
    {
     "data": {
      "text/html": [
       "<div>\n",
       "<style scoped>\n",
       "    .dataframe tbody tr th:only-of-type {\n",
       "        vertical-align: middle;\n",
       "    }\n",
       "\n",
       "    .dataframe tbody tr th {\n",
       "        vertical-align: top;\n",
       "    }\n",
       "\n",
       "    .dataframe thead th {\n",
       "        text-align: right;\n",
       "    }\n",
       "</style>\n",
       "<table border=\"1\" class=\"dataframe\">\n",
       "  <thead>\n",
       "    <tr style=\"text-align: right;\">\n",
       "      <th></th>\n",
       "      <th>pizza_id</th>\n",
       "      <th>pizza_name_id</th>\n",
       "      <th>quantity</th>\n",
       "      <th>order_date</th>\n",
       "      <th>total_price</th>\n",
       "      <th>pizza_size</th>\n",
       "      <th>pizza_category</th>\n",
       "      <th>pizza_ingredients</th>\n",
       "      <th>pizza_name</th>\n",
       "      <th>day_of_week</th>\n",
       "      <th>month</th>\n",
       "      <th>year</th>\n",
       "      <th>is_weekend</th>\n",
       "      <th>day_of_year</th>\n",
       "      <th>is_holiday</th>\n",
       "    </tr>\n",
       "  </thead>\n",
       "  <tbody>\n",
       "    <tr>\n",
       "      <th>0</th>\n",
       "      <td>1</td>\n",
       "      <td>27</td>\n",
       "      <td>1</td>\n",
       "      <td>2015-01-01</td>\n",
       "      <td>13.25</td>\n",
       "      <td>1</td>\n",
       "      <td>1</td>\n",
       "      <td>23</td>\n",
       "      <td>12</td>\n",
       "      <td>3</td>\n",
       "      <td>1</td>\n",
       "      <td>2015</td>\n",
       "      <td>0</td>\n",
       "      <td>1</td>\n",
       "      <td>0</td>\n",
       "    </tr>\n",
       "    <tr>\n",
       "      <th>1</th>\n",
       "      <td>2</td>\n",
       "      <td>18</td>\n",
       "      <td>1</td>\n",
       "      <td>2015-01-01</td>\n",
       "      <td>16.00</td>\n",
       "      <td>1</td>\n",
       "      <td>1</td>\n",
       "      <td>20</td>\n",
       "      <td>7</td>\n",
       "      <td>3</td>\n",
       "      <td>1</td>\n",
       "      <td>2015</td>\n",
       "      <td>0</td>\n",
       "      <td>1</td>\n",
       "      <td>0</td>\n",
       "    </tr>\n",
       "    <tr>\n",
       "      <th>2</th>\n",
       "      <td>3</td>\n",
       "      <td>20</td>\n",
       "      <td>1</td>\n",
       "      <td>2015-01-01</td>\n",
       "      <td>18.50</td>\n",
       "      <td>0</td>\n",
       "      <td>3</td>\n",
       "      <td>17</td>\n",
       "      <td>8</td>\n",
       "      <td>3</td>\n",
       "      <td>1</td>\n",
       "      <td>2015</td>\n",
       "      <td>0</td>\n",
       "      <td>1</td>\n",
       "      <td>0</td>\n",
       "    </tr>\n",
       "    <tr>\n",
       "      <th>3</th>\n",
       "      <td>4</td>\n",
       "      <td>32</td>\n",
       "      <td>1</td>\n",
       "      <td>2015-01-01</td>\n",
       "      <td>20.75</td>\n",
       "      <td>0</td>\n",
       "      <td>2</td>\n",
       "      <td>4</td>\n",
       "      <td>14</td>\n",
       "      <td>3</td>\n",
       "      <td>1</td>\n",
       "      <td>2015</td>\n",
       "      <td>0</td>\n",
       "      <td>1</td>\n",
       "      <td>0</td>\n",
       "    </tr>\n",
       "    <tr>\n",
       "      <th>4</th>\n",
       "      <td>5</td>\n",
       "      <td>42</td>\n",
       "      <td>1</td>\n",
       "      <td>2015-01-01</td>\n",
       "      <td>16.00</td>\n",
       "      <td>1</td>\n",
       "      <td>3</td>\n",
       "      <td>31</td>\n",
       "      <td>17</td>\n",
       "      <td>3</td>\n",
       "      <td>1</td>\n",
       "      <td>2015</td>\n",
       "      <td>0</td>\n",
       "      <td>1</td>\n",
       "      <td>0</td>\n",
       "    </tr>\n",
       "  </tbody>\n",
       "</table>\n",
       "</div>"
      ],
      "text/plain": [
       "   pizza_id  pizza_name_id  quantity order_date  total_price  pizza_size  \\\n",
       "0         1             27         1 2015-01-01        13.25           1   \n",
       "1         2             18         1 2015-01-01        16.00           1   \n",
       "2         3             20         1 2015-01-01        18.50           0   \n",
       "3         4             32         1 2015-01-01        20.75           0   \n",
       "4         5             42         1 2015-01-01        16.00           1   \n",
       "\n",
       "   pizza_category  pizza_ingredients  pizza_name  day_of_week  month  year  \\\n",
       "0               1                 23          12            3      1  2015   \n",
       "1               1                 20           7            3      1  2015   \n",
       "2               3                 17           8            3      1  2015   \n",
       "3               2                  4          14            3      1  2015   \n",
       "4               3                 31          17            3      1  2015   \n",
       "\n",
       "   is_weekend  day_of_year  is_holiday  \n",
       "0           0            1           0  \n",
       "1           0            1           0  \n",
       "2           0            1           0  \n",
       "3           0            1           0  \n",
       "4           0            1           0  "
      ]
     },
     "execution_count": 231,
     "metadata": {},
     "output_type": "execute_result"
    }
   ],
   "source": [
    "data.head()"
   ]
  },
  {
   "cell_type": "code",
   "execution_count": 327,
   "metadata": {},
   "outputs": [
    {
     "data": {
      "text/plain": [
       "pizza_id                      int64\n",
       "pizza_name_id                 int64\n",
       "quantity                      int64\n",
       "order_date           datetime64[ns]\n",
       "total_price                 float64\n",
       "pizza_size                    int64\n",
       "pizza_category                int64\n",
       "pizza_ingredients             int64\n",
       "pizza_name                    int64\n",
       "day_of_week                   int64\n",
       "month                         int64\n",
       "year                          int64\n",
       "is_weekend                    int64\n",
       "day_of_year                   int64\n",
       "is_holiday                    int64\n",
       "dtype: object"
      ]
     },
     "execution_count": 327,
     "metadata": {},
     "output_type": "execute_result"
    }
   ],
   "source": [
    "data.dtypes"
   ]
  },
  {
   "cell_type": "code",
   "execution_count": 292,
   "metadata": {},
   "outputs": [
    {
     "data": {
      "text/plain": [
       "Index(['pizza_id', 'pizza_name_id', 'quantity', 'order_date', 'total_price',\n",
       "       'pizza_size', 'pizza_category', 'pizza_ingredients', 'pizza_name',\n",
       "       'day_of_week', 'month', 'year', 'is_weekend', 'day_of_year',\n",
       "       'is_holiday'],\n",
       "      dtype='object')"
      ]
     },
     "execution_count": 292,
     "metadata": {},
     "output_type": "execute_result"
    }
   ],
   "source": [
    "data.columns"
   ]
  },
  {
   "cell_type": "code",
   "execution_count": 293,
   "metadata": {},
   "outputs": [
    {
     "data": {
      "text/plain": [
       "pizza_id             0\n",
       "pizza_name_id        0\n",
       "quantity             0\n",
       "order_date           0\n",
       "total_price          0\n",
       "pizza_size           0\n",
       "pizza_category       0\n",
       "pizza_ingredients    0\n",
       "pizza_name           0\n",
       "day_of_week          0\n",
       "month                0\n",
       "year                 0\n",
       "is_weekend           0\n",
       "day_of_year          0\n",
       "is_holiday           0\n",
       "dtype: int64"
      ]
     },
     "execution_count": 293,
     "metadata": {},
     "output_type": "execute_result"
    }
   ],
   "source": [
    "data.isnull().sum()"
   ]
  },
  {
   "cell_type": "markdown",
   "metadata": {},
   "source": [
    "MODEL TRAINING"
   ]
  },
  {
   "cell_type": "markdown",
   "metadata": {},
   "source": [
    "ARIMA MODEL"
   ]
  },
  {
   "cell_type": "code",
   "execution_count": 186,
   "metadata": {},
   "outputs": [],
   "source": [
    "data.set_index('order_date', inplace=True)"
   ]
  },
  {
   "cell_type": "code",
   "execution_count": 187,
   "metadata": {},
   "outputs": [],
   "source": [
    "train = data['quantity'][:int(0.8 * len(data))]\n",
    "test = data['quantity'][int(0.8 * len(data)):]"
   ]
  },
  {
   "cell_type": "code",
   "execution_count": 188,
   "metadata": {},
   "outputs": [],
   "source": [
    "model_arima = ARIMA(train, order=(5, 1, 0))  # (p, d, q) \n",
    "model_arima_fit = model_arima.fit()"
   ]
  },
  {
   "cell_type": "code",
   "execution_count": 189,
   "metadata": {},
   "outputs": [],
   "source": [
    "forecast_arima = model_arima_fit.forecast(steps=len(test) + 7)"
   ]
  },
  {
   "cell_type": "code",
   "execution_count": 190,
   "metadata": {},
   "outputs": [],
   "source": [
    "forecast_actual = forecast_arima[:len(test)]\n",
    "forecast_future = forecast_arima[len(test):]"
   ]
  },
  {
   "cell_type": "code",
   "execution_count": 191,
   "metadata": {},
   "outputs": [],
   "source": [
    "mae_arima = mean_absolute_error(test, forecast_actual)\n",
    "mse_arima = mean_squared_error(test, forecast_actual)\n",
    "rmse_arima = np.sqrt(mse_arima)\n",
    "r2_arima = r2_score(test, forecast_actual)\n",
    "mape_arima = mean_absolute_percentage_error(test, forecast_actual)"
   ]
  },
  {
   "cell_type": "code",
   "execution_count": 192,
   "metadata": {},
   "outputs": [
    {
     "name": "stdout",
     "output_type": "stream",
     "text": [
      "MAE for ARIMA: 0.0197\n",
      "MSE for ARIMA: 0.0208\n",
      "RMSE for ARIMA: 0.1441\n",
      "R² for ARIMA: -0.0191\n",
      "MAPE for ARIMA: 0.0097\n"
     ]
    }
   ],
   "source": [
    "print(f\"MAE for ARIMA: {mae_arima:.4f}\")\n",
    "print(f\"MSE for ARIMA: {mse_arima:.4f}\")\n",
    "print(f\"RMSE for ARIMA: {rmse_arima:.4f}\")\n",
    "print(f\"R² for ARIMA: {r2_arima:.4f}\")\n",
    "print(f\"MAPE for ARIMA: {mape_arima:.4f}\")"
   ]
  },
  {
   "cell_type": "code",
   "execution_count": 193,
   "metadata": {},
   "outputs": [
    {
     "data": {
      "text/plain": [
       "[<matplotlib.lines.Line2D at 0x1fcee717230>]"
      ]
     },
     "execution_count": 193,
     "metadata": {},
     "output_type": "execute_result"
    },
    {
     "data": {
      "image/png": "[encoded data removed]",
      "text/plain": [
       "<Figure size 1000x600 with 1 Axes>"
      ]
     },
     "metadata": {},
     "output_type": "display_data"
    }
   ],
   "source": [
    "plt.figure(figsize=(10, 6))\n",
    "plt.plot(test.index, test, label='Actual', color='blue', marker='o')\n",
    "plt.plot(test.index, forecast_actual, label='Predicted (Test)', color='green', marker='x')"
   ]
  },
  {
   "cell_type": "code",
   "execution_count": 194,
   "metadata": {},
   "outputs": [
    {
     "data": {
      "image/png": "[encoded data removed]",
      "text/plain": [
       "<Figure size 640x480 with 1 Axes>"
      ]
     },
     "metadata": {},
     "output_type": "display_data"
    }
   ],
   "source": [
    "future_dates = pd.date_range(start=test.index[-1] + pd.Timedelta(days=1), periods=7, freq='D')\n",
    "plt.plot(future_dates, forecast_future, label='Predicted (Future)', color='green', marker='x')\n",
    "\n",
    "plt.title('ARIMA Model Forecast vs Actual (with 7-day forecast)')\n",
    "plt.xlabel('Date')\n",
    "plt.ylabel('Quantity')\n",
    "plt.xticks(rotation=45)\n",
    "plt.legend()\n",
    "plt.show()"
   ]
  },
  {
   "cell_type": "code",
   "execution_count": 195,
   "metadata": {},
   "outputs": [
    {
     "name": "stdout",
     "output_type": "stream",
     "text": [
      "            Actual  Predicted\n",
      "2015-10-17     2.0        1.0\n",
      "2015-10-17     1.0        1.0\n",
      "2015-10-17     1.0        1.0\n",
      "2015-10-17     1.0        1.0\n",
      "2015-10-17     1.0        1.0\n"
     ]
    }
   ],
   "source": [
    "comparison_df_arima = pd.DataFrame({\n",
    "    'Actual': list(test) + [None] * 7,  # Fill future with None for clarity\n",
    "    'Predicted': list(forecast_actual) + list(forecast_future)\n",
    "}, index=list(test.index) + list(future_dates))\n",
    "\n",
    "print(comparison_df_arima.head())"
   ]
  },
  {
   "cell_type": "markdown",
   "metadata": {},
   "source": [
    "SARIMA MODEL"
   ]
  },
  {
   "cell_type": "code",
   "execution_count": 272,
   "metadata": {},
   "outputs": [],
   "source": [
    "data.set_index('order_date', inplace=True)"
   ]
  },
  {
   "cell_type": "code",
   "execution_count": 273,
   "metadata": {},
   "outputs": [],
   "source": [
    "train = data['quantity'][:int(0.8 * len(data))]\n",
    "test = data['quantity'][int(0.8 * len(data)):]"
   ]
  },
  {
   "cell_type": "code",
   "execution_count": 274,
   "metadata": {},
   "outputs": [],
   "source": [
    "model_sarima = SARIMAX(train, order=(5, 1, 0), seasonal_order=(1, 1, 0, 7))\n",
    "model_sarima_fit = model_sarima.fit()"
   ]
  },
  {
   "cell_type": "code",
   "execution_count": 275,
   "metadata": {},
   "outputs": [],
   "source": [
    "forecast_sarima = model_sarima_fit.forecast(steps=len(test) + 7)"
   ]
  },
  {
   "cell_type": "code",
   "execution_count": 276,
   "metadata": {},
   "outputs": [],
   "source": [
    "forecast_actual = forecast_sarima[:len(test)]\n",
    "forecast_future = forecast_sarima[len(test):]"
   ]
  },
  {
   "cell_type": "code",
   "execution_count": 277,
   "metadata": {},
   "outputs": [],
   "source": [
    "mae_sarima = mean_absolute_error(test, forecast_actual)\n",
    "mse_sarima = mean_squared_error(test, forecast_actual)\n",
    "rmse_sarima = np.sqrt(mse_sarima)\n",
    "r2_sarima = r2_score(test, forecast_actual)\n",
    "mape_sarima = mean_absolute_percentage_error(test, forecast_actual)"
   ]
  },
  {
   "cell_type": "code",
   "execution_count": 278,
   "metadata": {},
   "outputs": [
    {
     "name": "stdout",
     "output_type": "stream",
     "text": [
      "MAE for SARIMA: 0.1113\n",
      "MSE for SARIMA: 0.0805\n",
      "RMSE for SARIMA: 0.2837\n",
      "R² for SARIMA: -2.9495\n",
      "MAPE for SARIMA: 0.1021\n"
     ]
    }
   ],
   "source": [
    "print(f\"MAE for SARIMA: {mae_sarima:.4f}\")\n",
    "print(f\"MSE for SARIMA: {mse_sarima:.4f}\")\n",
    "print(f\"RMSE for SARIMA: {rmse_sarima:.4f}\")\n",
    "print(f\"R² for SARIMA: {r2_sarima:.4f}\")\n",
    "print(f\"MAPE for SARIMA: {mape_sarima:.4f}\")"
   ]
  },
  {
   "cell_type": "code",
   "execution_count": 318,
   "metadata": {},
   "outputs": [
    {
     "data": {
      "image/png": "[encoded data removed]",
      "text/plain": [
       "<Figure size 1000x600 with 1 Axes>"
      ]
     },
     "metadata": {},
     "output_type": "display_data"
    }
   ],
   "source": [
    "plt.figure(figsize=(10, 6))\n",
    "plt.plot(test.index, test, label='Actual', color='blue', marker='o')\n",
    "plt.plot(test.index, forecast_actual, label='Predicted (Test)', color='green', marker='x')\n",
    "plt.title('Actual vs Predicted Values for Test Set')  \n",
    "plt.xlabel('Date') \n",
    "plt.ylabel('Quantity')\n",
    "plt.legend()\n",
    "plt.show()"
   ]
  },
  {
   "cell_type": "code",
   "execution_count": 315,
   "metadata": {},
   "outputs": [
    {
     "data": {
      "image/png": "[encoded data removed]",
      "text/plain": [
       "<Figure size 640x480 with 1 Axes>"
      ]
     },
     "metadata": {},
     "output_type": "display_data"
    }
   ],
   "source": [
    "future_dates = pd.date_range(start=test.index[-1] + pd.Timedelta(days=1), periods=7, freq='D')\n",
    "plt.plot(future_dates, forecast_future, label='Predicted (Future)', color='green', marker='x')\n",
    "\n",
    "plt.title('SARIMA Model Forecast vs Actual (with 7-day forecast)')\n",
    "plt.xlabel('Date')\n",
    "plt.ylabel('Quantity')\n",
    "plt.xticks(rotation=45)\n",
    "plt.legend()\n",
    "plt.show()\n"
   ]
  },
  {
   "cell_type": "code",
   "execution_count": 316,
   "metadata": {},
   "outputs": [
    {
     "name": "stdout",
     "output_type": "stream",
     "text": [
      "            Actual  Predicted\n",
      "2015-10-17     2.0   1.495181\n",
      "2015-10-17     1.0   1.000000\n",
      "2015-10-17     1.0   1.000000\n",
      "2015-10-17     1.0   1.000000\n",
      "2015-10-17     1.0   1.000000\n"
     ]
    }
   ],
   "source": [
    "comparison_df_sarima = pd.DataFrame({\n",
    "    'Actual': list(test) + [None] * 7,  \n",
    "    'Predicted': list(forecast_actual) + list(forecast_future)\n",
    "}, index=list(test.index) + list(future_dates))\n",
    "\n",
    "print(comparison_df_sarima.head()) "
   ]
  },
  {
   "cell_type": "markdown",
   "metadata": {},
   "source": [
    "PORPHET MODEL"
   ]
  },
  {
   "cell_type": "code",
   "execution_count": 170,
   "metadata": {},
   "outputs": [
    {
     "data": {
      "text/html": [
       "<div>\n",
       "<style scoped>\n",
       "    .dataframe tbody tr th:only-of-type {\n",
       "        vertical-align: middle;\n",
       "    }\n",
       "\n",
       "    .dataframe tbody tr th {\n",
       "        vertical-align: top;\n",
       "    }\n",
       "\n",
       "    .dataframe thead th {\n",
       "        text-align: right;\n",
       "    }\n",
       "</style>\n",
       "<table border=\"1\" class=\"dataframe\">\n",
       "  <thead>\n",
       "    <tr style=\"text-align: right;\">\n",
       "      <th></th>\n",
       "      <th>ds</th>\n",
       "      <th>y</th>\n",
       "    </tr>\n",
       "  </thead>\n",
       "  <tbody>\n",
       "    <tr>\n",
       "      <th>0</th>\n",
       "      <td>2015-01-01</td>\n",
       "      <td>1</td>\n",
       "    </tr>\n",
       "    <tr>\n",
       "      <th>1</th>\n",
       "      <td>2015-01-01</td>\n",
       "      <td>1</td>\n",
       "    </tr>\n",
       "    <tr>\n",
       "      <th>2</th>\n",
       "      <td>2015-01-01</td>\n",
       "      <td>1</td>\n",
       "    </tr>\n",
       "    <tr>\n",
       "      <th>3</th>\n",
       "      <td>2015-01-01</td>\n",
       "      <td>1</td>\n",
       "    </tr>\n",
       "    <tr>\n",
       "      <th>4</th>\n",
       "      <td>2015-01-01</td>\n",
       "      <td>1</td>\n",
       "    </tr>\n",
       "  </tbody>\n",
       "</table>\n",
       "</div>"
      ],
      "text/plain": [
       "          ds  y\n",
       "0 2015-01-01  1\n",
       "1 2015-01-01  1\n",
       "2 2015-01-01  1\n",
       "3 2015-01-01  1\n",
       "4 2015-01-01  1"
      ]
     },
     "execution_count": 170,
     "metadata": {},
     "output_type": "execute_result"
    }
   ],
   "source": [
    "data_p = data[['order_date', 'quantity']].rename(columns={'order_date': 'ds', 'quantity': 'y'})\n",
    "data_p.head()"
   ]
  },
  {
   "cell_type": "code",
   "execution_count": 171,
   "metadata": {},
   "outputs": [
    {
     "name": "stderr",
     "output_type": "stream",
     "text": [
      "21:27:21 - cmdstanpy - INFO - Chain [1] start processing\n",
      "21:27:25 - cmdstanpy - INFO - Chain [1] done processing\n"
     ]
    },
    {
     "data": {
      "text/plain": [
       "<prophet.forecaster.Prophet at 0x1fd05124e60>"
      ]
     },
     "execution_count": 171,
     "metadata": {},
     "output_type": "execute_result"
    }
   ],
   "source": [
    "model_p = Prophet()\n",
    "model_p.fit(data_p)"
   ]
  },
  {
   "cell_type": "code",
   "execution_count": 172,
   "metadata": {},
   "outputs": [],
   "source": [
    "future = model_p.make_future_dataframe(periods=7) \n",
    "forecast = model_p.predict(future)"
   ]
  },
  {
   "cell_type": "code",
   "execution_count": 173,
   "metadata": {},
   "outputs": [
    {
     "name": "stdout",
     "output_type": "stream",
     "text": [
      "            ds      yhat  yhat_lower  yhat_upper\n",
      "360 2016-01-03  1.021104    0.834879    1.208189\n",
      "361 2016-01-04  1.019360    0.830363    1.201111\n",
      "362 2016-01-05  1.022233    0.843333    1.205816\n",
      "363 2016-01-06  1.023114    0.836758    1.210812\n",
      "364 2016-01-07  1.022312    0.820702    1.199902\n"
     ]
    }
   ],
   "source": [
    "print(forecast[['ds', 'yhat', 'yhat_lower', 'yhat_upper']].tail())"
   ]
  },
  {
   "cell_type": "code",
   "execution_count": 174,
   "metadata": {},
   "outputs": [],
   "source": [
    "train = data_p[:-7]  \n",
    "test = data_p[-7:]"
   ]
  },
  {
   "cell_type": "code",
   "execution_count": 175,
   "metadata": {},
   "outputs": [],
   "source": [
    "forecast_test = model_p.predict(test)"
   ]
  },
  {
   "cell_type": "code",
   "execution_count": 176,
   "metadata": {},
   "outputs": [],
   "source": [
    "mae_prophet = mean_absolute_error(test['y'], forecast_test['yhat'])\n",
    "mse_prophet = mean_squared_error(test['y'], forecast_test['yhat'])\n",
    "rmse_prophet = np.sqrt(mse_prophet)\n",
    "r2_prophet = r2_score(test['y'], forecast_test['yhat'])\n",
    "mape_prophet = mean_absolute_percentage_error(test['y'], forecast_test['yhat'])"
   ]
  },
  {
   "cell_type": "code",
   "execution_count": 177,
   "metadata": {},
   "outputs": [
    {
     "name": "stdout",
     "output_type": "stream",
     "text": [
      "MAE for Prophet: 0.0222\n",
      "MSE for Prophet: 0.0005\n",
      "RMSE for Prophet: 0.0222\n",
      "R² for Prophet: 0.0000\n",
      "MAPE for Prophet: 0.0222\n"
     ]
    }
   ],
   "source": [
    "print(f\"MAE for Prophet: {mae_prophet:.4f}\")\n",
    "print(f\"MSE for Prophet: {mse_prophet:.4f}\")\n",
    "print(f\"RMSE for Prophet: {rmse_prophet:.4f}\")\n",
    "print(f\"R² for Prophet: {r2_prophet:.4f}\")\n",
    "print(f\"MAPE for Prophet: {mape_prophet:.4f}\")"
   ]
  },
  {
   "cell_type": "markdown",
   "metadata": {},
   "source": [
    "ARIMA is the better model, as it achieves the lowest error metrics and performs well in terms of the other metrics compared to the others."
   ]
  },
  {
   "cell_type": "code",
   "execution_count": null,
   "metadata": {},
   "outputs": [],
   "source": []
  }
 ],
 "metadata": {
  "kernelspec": {
   "display_name": ".venv",
   "language": "python",
   "name": "python3"
  },
  "language_info": {
   "codemirror_mode": {
    "name": "ipython",
    "version": 3
   },
   "file_extension": ".py",
   "mimetype": "text/x-python",
   "name": "python",
   "nbconvert_exporter": "python",
   "pygments_lexer": "ipython3",
   "version": "3.12.7"
  }
 },
 "nbformat": 4,
 "nbformat_minor": 2
}
